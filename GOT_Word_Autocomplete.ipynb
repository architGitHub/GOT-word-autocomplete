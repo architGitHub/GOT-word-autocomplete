{
  "nbformat": 4,
  "nbformat_minor": 0,
  "metadata": {
    "colab": {
      "name": "GOT_Word_Autocomplete",
      "provenance": [],
      "collapsed_sections": []
    },
    "kernelspec": {
      "name": "python3",
      "display_name": "Python 3"
    },
    "accelerator": "TPU"
  },
  "cells": [
    {
      "cell_type": "code",
      "metadata": {
        "id": "7dca2fKTpnYb",
        "colab_type": "code",
        "colab": {}
      },
      "source": [
        "import numpy as np\n",
        "import pandas as pd\n",
        "import re\n",
        "import matplotlib.pyplot as plt"
      ],
      "execution_count": 1,
      "outputs": []
    },
    {
      "cell_type": "code",
      "metadata": {
        "id": "Wf9RwbL8p6bH",
        "colab_type": "code",
        "colab": {
          "base_uri": "https://localhost:8080/",
          "height": 69
        },
        "outputId": "99c336d9-4672-44c3-ae73-ed33082064a5"
      },
      "source": [
        "import nltk\n",
        "from nltk.tokenize import word_tokenize \n",
        "\n",
        "nltk.download('punkt')"
      ],
      "execution_count": 2,
      "outputs": [
        {
          "output_type": "stream",
          "text": [
            "[nltk_data] Downloading package punkt to /root/nltk_data...\n",
            "[nltk_data]   Package punkt is already up-to-date!\n"
          ],
          "name": "stdout"
        },
        {
          "output_type": "execute_result",
          "data": {
            "text/plain": [
              "True"
            ]
          },
          "metadata": {
            "tags": []
          },
          "execution_count": 2
        }
      ]
    },
    {
      "cell_type": "code",
      "metadata": {
        "id": "z_rMdDAzGKlo",
        "colab_type": "code",
        "colab": {
          "base_uri": "https://localhost:8080/",
          "height": 198
        },
        "outputId": "7e81ef12-e2da-46a4-85d3-53cf1243ee36"
      },
      "source": [
        "df = pd.read_csv('/content/drive/My Drive/Projects/GOT/got_scripts_breakdown.csv', delimiter=';')\n",
        "df.head()"
      ],
      "execution_count": 3,
      "outputs": [
        {
          "output_type": "execute_result",
          "data": {
            "text/html": [
              "<div>\n",
              "<style scoped>\n",
              "    .dataframe tbody tr th:only-of-type {\n",
              "        vertical-align: middle;\n",
              "    }\n",
              "\n",
              "    .dataframe tbody tr th {\n",
              "        vertical-align: top;\n",
              "    }\n",
              "\n",
              "    .dataframe thead th {\n",
              "        text-align: right;\n",
              "    }\n",
              "</style>\n",
              "<table border=\"1\" class=\"dataframe\">\n",
              "  <thead>\n",
              "    <tr style=\"text-align: right;\">\n",
              "      <th></th>\n",
              "      <th>Column1</th>\n",
              "      <th>Season</th>\n",
              "      <th>Episode</th>\n",
              "      <th>Sentence</th>\n",
              "      <th>Name</th>\n",
              "      <th>N_serie</th>\n",
              "      <th>N_Season</th>\n",
              "      <th>Emision Date</th>\n",
              "    </tr>\n",
              "  </thead>\n",
              "  <tbody>\n",
              "    <tr>\n",
              "      <th>0</th>\n",
              "      <td>1</td>\n",
              "      <td>Season 1</td>\n",
              "      <td>winter is coming</td>\n",
              "      <td>What d’you expect? They’re savages One lot ste...</td>\n",
              "      <td>waymar royce</td>\n",
              "      <td>1</td>\n",
              "      <td>1</td>\n",
              "      <td>17/04/2011</td>\n",
              "    </tr>\n",
              "    <tr>\n",
              "      <th>1</th>\n",
              "      <td>2</td>\n",
              "      <td>Season 1</td>\n",
              "      <td>winter is coming</td>\n",
              "      <td>I’ve never seen wildlings do a thing like this...</td>\n",
              "      <td>will</td>\n",
              "      <td>1</td>\n",
              "      <td>1</td>\n",
              "      <td>17/04/2011</td>\n",
              "    </tr>\n",
              "    <tr>\n",
              "      <th>2</th>\n",
              "      <td>3</td>\n",
              "      <td>Season 1</td>\n",
              "      <td>winter is coming</td>\n",
              "      <td>How close did you get?</td>\n",
              "      <td>waymar royce</td>\n",
              "      <td>1</td>\n",
              "      <td>1</td>\n",
              "      <td>17/04/2011</td>\n",
              "    </tr>\n",
              "    <tr>\n",
              "      <th>3</th>\n",
              "      <td>4</td>\n",
              "      <td>Season 1</td>\n",
              "      <td>winter is coming</td>\n",
              "      <td>Close as any man would</td>\n",
              "      <td>will</td>\n",
              "      <td>1</td>\n",
              "      <td>1</td>\n",
              "      <td>17/04/2011</td>\n",
              "    </tr>\n",
              "    <tr>\n",
              "      <th>4</th>\n",
              "      <td>5</td>\n",
              "      <td>Season 1</td>\n",
              "      <td>winter is coming</td>\n",
              "      <td>We should head back to the wall</td>\n",
              "      <td>gared</td>\n",
              "      <td>1</td>\n",
              "      <td>1</td>\n",
              "      <td>17/04/2011</td>\n",
              "    </tr>\n",
              "  </tbody>\n",
              "</table>\n",
              "</div>"
            ],
            "text/plain": [
              "   Column1    Season           Episode  ... N_serie N_Season  Emision Date\n",
              "0        1  Season 1  winter is coming  ...       1        1    17/04/2011\n",
              "1        2  Season 1  winter is coming  ...       1        1    17/04/2011\n",
              "2        3  Season 1  winter is coming  ...       1        1    17/04/2011\n",
              "3        4  Season 1  winter is coming  ...       1        1    17/04/2011\n",
              "4        5  Season 1  winter is coming  ...       1        1    17/04/2011\n",
              "\n",
              "[5 rows x 8 columns]"
            ]
          },
          "metadata": {
            "tags": []
          },
          "execution_count": 3
        }
      ]
    },
    {
      "cell_type": "code",
      "metadata": {
        "id": "AuYszjaQAvbX",
        "colab_type": "code",
        "colab": {
          "base_uri": "https://localhost:8080/",
          "height": 198
        },
        "outputId": "0328ab60-ac76-482d-a460-d7613d7e4d55"
      },
      "source": [
        "df = df[['Sentence']]\n",
        "df.columns = ['Text']\n",
        "df = df.iloc[:3000]\n",
        "df.head()"
      ],
      "execution_count": 4,
      "outputs": [
        {
          "output_type": "execute_result",
          "data": {
            "text/html": [
              "<div>\n",
              "<style scoped>\n",
              "    .dataframe tbody tr th:only-of-type {\n",
              "        vertical-align: middle;\n",
              "    }\n",
              "\n",
              "    .dataframe tbody tr th {\n",
              "        vertical-align: top;\n",
              "    }\n",
              "\n",
              "    .dataframe thead th {\n",
              "        text-align: right;\n",
              "    }\n",
              "</style>\n",
              "<table border=\"1\" class=\"dataframe\">\n",
              "  <thead>\n",
              "    <tr style=\"text-align: right;\">\n",
              "      <th></th>\n",
              "      <th>Text</th>\n",
              "    </tr>\n",
              "  </thead>\n",
              "  <tbody>\n",
              "    <tr>\n",
              "      <th>0</th>\n",
              "      <td>What d’you expect? They’re savages One lot ste...</td>\n",
              "    </tr>\n",
              "    <tr>\n",
              "      <th>1</th>\n",
              "      <td>I’ve never seen wildlings do a thing like this...</td>\n",
              "    </tr>\n",
              "    <tr>\n",
              "      <th>2</th>\n",
              "      <td>How close did you get?</td>\n",
              "    </tr>\n",
              "    <tr>\n",
              "      <th>3</th>\n",
              "      <td>Close as any man would</td>\n",
              "    </tr>\n",
              "    <tr>\n",
              "      <th>4</th>\n",
              "      <td>We should head back to the wall</td>\n",
              "    </tr>\n",
              "  </tbody>\n",
              "</table>\n",
              "</div>"
            ],
            "text/plain": [
              "                                                Text\n",
              "0  What d’you expect? They’re savages One lot ste...\n",
              "1  I’ve never seen wildlings do a thing like this...\n",
              "2                             How close did you get?\n",
              "3                             Close as any man would\n",
              "4                    We should head back to the wall"
            ]
          },
          "metadata": {
            "tags": []
          },
          "execution_count": 4
        }
      ]
    },
    {
      "cell_type": "code",
      "metadata": {
        "id": "4bcStLUAFhjT",
        "colab_type": "code",
        "colab": {
          "base_uri": "https://localhost:8080/",
          "height": 34
        },
        "outputId": "2c0ace8d-21aa-45eb-e4d4-efe3c8fb7a69"
      },
      "source": [
        "df.shape"
      ],
      "execution_count": 5,
      "outputs": [
        {
          "output_type": "execute_result",
          "data": {
            "text/plain": [
              "(3000, 1)"
            ]
          },
          "metadata": {
            "tags": []
          },
          "execution_count": 5
        }
      ]
    },
    {
      "cell_type": "code",
      "metadata": {
        "id": "0DCAgrIKqLYJ",
        "colab_type": "code",
        "colab": {}
      },
      "source": [
        "def preprocess(text):\n",
        "  text = text.lower()\n",
        "  text = re.sub('[^a-z ]', ' ', text)\n",
        "  text = text + ' endseq'\n",
        "  text = ' '.join(text.split())\n",
        "  return text"
      ],
      "execution_count": 6,
      "outputs": []
    },
    {
      "cell_type": "code",
      "metadata": {
        "id": "SqlTqz6Bqa4N",
        "colab_type": "code",
        "colab": {
          "base_uri": "https://localhost:8080/",
          "height": 198
        },
        "outputId": "9643b4e1-62e5-4bb8-98d5-b3eadeaca629"
      },
      "source": [
        "df['Text'] = df['Text'].apply(preprocess)\n",
        "df.head()"
      ],
      "execution_count": 7,
      "outputs": [
        {
          "output_type": "execute_result",
          "data": {
            "text/html": [
              "<div>\n",
              "<style scoped>\n",
              "    .dataframe tbody tr th:only-of-type {\n",
              "        vertical-align: middle;\n",
              "    }\n",
              "\n",
              "    .dataframe tbody tr th {\n",
              "        vertical-align: top;\n",
              "    }\n",
              "\n",
              "    .dataframe thead th {\n",
              "        text-align: right;\n",
              "    }\n",
              "</style>\n",
              "<table border=\"1\" class=\"dataframe\">\n",
              "  <thead>\n",
              "    <tr style=\"text-align: right;\">\n",
              "      <th></th>\n",
              "      <th>Text</th>\n",
              "    </tr>\n",
              "  </thead>\n",
              "  <tbody>\n",
              "    <tr>\n",
              "      <th>0</th>\n",
              "      <td>what d you expect they re savages one lot stea...</td>\n",
              "    </tr>\n",
              "    <tr>\n",
              "      <th>1</th>\n",
              "      <td>i ve never seen wildlings do a thing like this...</td>\n",
              "    </tr>\n",
              "    <tr>\n",
              "      <th>2</th>\n",
              "      <td>how close did you get endseq</td>\n",
              "    </tr>\n",
              "    <tr>\n",
              "      <th>3</th>\n",
              "      <td>close as any man would endseq</td>\n",
              "    </tr>\n",
              "    <tr>\n",
              "      <th>4</th>\n",
              "      <td>we should head back to the wall endseq</td>\n",
              "    </tr>\n",
              "  </tbody>\n",
              "</table>\n",
              "</div>"
            ],
            "text/plain": [
              "                                                Text\n",
              "0  what d you expect they re savages one lot stea...\n",
              "1  i ve never seen wildlings do a thing like this...\n",
              "2                       how close did you get endseq\n",
              "3                      close as any man would endseq\n",
              "4             we should head back to the wall endseq"
            ]
          },
          "metadata": {
            "tags": []
          },
          "execution_count": 7
        }
      ]
    },
    {
      "cell_type": "code",
      "metadata": {
        "id": "rb3ENabwzh0w",
        "colab_type": "code",
        "colab": {
          "base_uri": "https://localhost:8080/",
          "height": 265
        },
        "outputId": "d1e4c967-e0bd-4f21-b1c5-86a4366f0285"
      },
      "source": [
        "sen_length = [len(x) for x in df.Text.str.split()]\n",
        "plt.scatter(sen_length, [i for i in range(len(sen_length))])\n",
        "plt.show()"
      ],
      "execution_count": 8,
      "outputs": [
        {
          "output_type": "display_data",
          "data": {
            "image/png": "[encoded data removed]",
            "text/plain": [
              "<Figure size 432x288 with 1 Axes>"
            ]
          },
          "metadata": {
            "tags": [],
            "needs_background": "light"
          }
        }
      ]
    },
    {
      "cell_type": "code",
      "metadata": {
        "id": "cEr7FLd_2lax",
        "colab_type": "code",
        "colab": {
          "base_uri": "https://localhost:8080/",
          "height": 34
        },
        "outputId": "1ccd9351-8db2-4724-c797-418b6f2dca97"
      },
      "source": [
        "df = df[np.array(sen_length) <= 200]\n",
        "df.reset_index(inplace = True)\n",
        "df.shape"
      ],
      "execution_count": 9,
      "outputs": [
        {
          "output_type": "execute_result",
          "data": {
            "text/plain": [
              "(2999, 2)"
            ]
          },
          "metadata": {
            "tags": []
          },
          "execution_count": 9
        }
      ]
    },
    {
      "cell_type": "code",
      "metadata": {
        "id": "3AAybr-4vjjC",
        "colab_type": "code",
        "colab": {}
      },
      "source": [
        "vocab = []\n",
        "\n",
        "for i in df.Text:\n",
        "  vocab.append(word_tokenize(i))"
      ],
      "execution_count": 10,
      "outputs": []
    },
    {
      "cell_type": "code",
      "metadata": {
        "id": "pgld4jzQv7IQ",
        "colab_type": "code",
        "colab": {
          "base_uri": "https://localhost:8080/",
          "height": 34
        },
        "outputId": "896e7872-7993-4489-d67b-a9745e491d94"
      },
      "source": [
        "vocab_flat = []\n",
        "\n",
        "for sublist in vocab:\n",
        "    for item in sublist:\n",
        "        vocab_flat.append(item)\n",
        "\n",
        "print('Total words:', len(vocab_flat), '| Unique words:', len(set(vocab_flat)))"
      ],
      "execution_count": 11,
      "outputs": [
        {
          "output_type": "stream",
          "text": [
            "Total words: 41923 | Unique words: 3658\n"
          ],
          "name": "stdout"
        }
      ]
    },
    {
      "cell_type": "code",
      "metadata": {
        "id": "0Elaro-K9R-0",
        "colab_type": "code",
        "colab": {
          "base_uri": "https://localhost:8080/",
          "height": 34
        },
        "outputId": "577162e3-141f-4266-aef6-996b59936ebd"
      },
      "source": [
        "max_sentence = max([len(x) for x in vocab])\n",
        "max_sentence"
      ],
      "execution_count": 12,
      "outputs": [
        {
          "output_type": "execute_result",
          "data": {
            "text/plain": [
              "183"
            ]
          },
          "metadata": {
            "tags": []
          },
          "execution_count": 12
        }
      ]
    }
  ]
}