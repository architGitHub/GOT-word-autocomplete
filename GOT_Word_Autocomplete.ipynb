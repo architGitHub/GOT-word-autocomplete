{
  "nbformat": 4,
  "nbformat_minor": 0,
  "metadata": {
    "colab": {
      "name": "GOT_Word_Autocomplete",
      "provenance": [],
      "collapsed_sections": []
    },
    "kernelspec": {
      "name": "python3",
      "display_name": "Python 3"
    },
    "accelerator": "TPU",
    "widgets": {
      "application/vnd.jupyter.widget-state+json": {
        "769367e1c50548d58e5f2469e09cc23b": {
          "model_module": "@jupyter-widgets/controls",
          "model_name": "HBoxModel",
          "state": {
            "_view_name": "HBoxView",
            "_dom_classes": [],
            "_model_name": "HBoxModel",
            "_view_module": "@jupyter-widgets/controls",
            "_model_module_version": "1.5.0",
            "_view_count": null,
            "_view_module_version": "1.5.0",
            "box_style": "",
            "layout": "IPY_MODEL_852fa35be1a64250b4c86836652d1e64",
            "_model_module": "@jupyter-widgets/controls",
            "children": [
              "IPY_MODEL_0c75cb2e295d4a148536f3171211db74",
              "IPY_MODEL_d6a6b822330449aea850d7b27d4b1210"
            ]
          }
        },
        "852fa35be1a64250b4c86836652d1e64": {
          "model_module": "@jupyter-widgets/base",
          "model_name": "LayoutModel",
          "state": {
            "_view_name": "LayoutView",
            "grid_template_rows": null,
            "right": null,
            "justify_content": null,
            "_view_module": "@jupyter-widgets/base",
            "overflow": null,
            "_model_module_version": "1.2.0",
            "_view_count": null,
            "flex_flow": null,
            "width": null,
            "min_width": null,
            "border": null,
            "align_items": null,
            "bottom": null,
            "_model_module": "@jupyter-widgets/base",
            "top": null,
            "grid_column": null,
            "overflow_y": null,
            "overflow_x": null,
            "grid_auto_flow": null,
            "grid_area": null,
            "grid_template_columns": null,
            "flex": null,
            "_model_name": "LayoutModel",
            "justify_items": null,
            "grid_row": null,
            "max_height": null,
            "align_content": null,
            "visibility": null,
            "align_self": null,
            "height": null,
            "min_height": null,
            "padding": null,
            "grid_auto_rows": null,
            "grid_gap": null,
            "max_width": null,
            "order": null,
            "_view_module_version": "1.2.0",
            "grid_template_areas": null,
            "object_position": null,
            "object_fit": null,
            "grid_auto_columns": null,
            "margin": null,
            "display": null,
            "left": null
          }
        },
        "0c75cb2e295d4a148536f3171211db74": {
          "model_module": "@jupyter-widgets/controls",
          "model_name": "FloatProgressModel",
          "state": {
            "_view_name": "ProgressView",
            "style": "IPY_MODEL_cfa6989a2ff649879ee6a6551edd94b8",
            "_dom_classes": [],
            "description": "100%",
            "_model_name": "FloatProgressModel",
            "bar_style": "success",
            "max": 512,
            "_view_module": "@jupyter-widgets/controls",
            "_model_module_version": "1.5.0",
            "value": 512,
            "_view_count": null,
            "_view_module_version": "1.5.0",
            "orientation": "horizontal",
            "min": 0,
            "description_tooltip": null,
            "_model_module": "@jupyter-widgets/controls",
            "layout": "IPY_MODEL_dfeb44acc8484d848ecffb762d02966d"
          }
        },
        "d6a6b822330449aea850d7b27d4b1210": {
          "model_module": "@jupyter-widgets/controls",
          "model_name": "HTMLModel",
          "state": {
            "_view_name": "HTMLView",
            "style": "IPY_MODEL_5d75a02b824941358c39decea7f73fa2",
            "_dom_classes": [],
            "description": "",
            "_model_name": "HTMLModel",
            "placeholder": "​",
            "_view_module": "@jupyter-widgets/controls",
            "_model_module_version": "1.5.0",
            "value": " 512/512 [00:08&lt;00:00, 60.33it/s]",
            "_view_count": null,
            "_view_module_version": "1.5.0",
            "description_tooltip": null,
            "_model_module": "@jupyter-widgets/controls",
            "layout": "IPY_MODEL_1598841882c64a1d893909eacca0fbd5"
          }
        },
        "cfa6989a2ff649879ee6a6551edd94b8": {
          "model_module": "@jupyter-widgets/controls",
          "model_name": "ProgressStyleModel",
          "state": {
            "_view_name": "StyleView",
            "_model_name": "ProgressStyleModel",
            "description_width": "initial",
            "_view_module": "@jupyter-widgets/base",
            "_model_module_version": "1.5.0",
            "_view_count": null,
            "_view_module_version": "1.2.0",
            "bar_color": null,
            "_model_module": "@jupyter-widgets/controls"
          }
        },
        "dfeb44acc8484d848ecffb762d02966d": {
          "model_module": "@jupyter-widgets/base",
          "model_name": "LayoutModel",
          "state": {
            "_view_name": "LayoutView",
            "grid_template_rows": null,
            "right": null,
            "justify_content": null,
            "_view_module": "@jupyter-widgets/base",
            "overflow": null,
            "_model_module_version": "1.2.0",
            "_view_count": null,
            "flex_flow": null,
            "width": null,
            "min_width": null,
            "border": null,
            "align_items": null,
            "bottom": null,
            "_model_module": "@jupyter-widgets/base",
            "top": null,
            "grid_column": null,
            "overflow_y": null,
            "overflow_x": null,
            "grid_auto_flow": null,
            "grid_area": null,
            "grid_template_columns": null,
            "flex": null,
            "_model_name": "LayoutModel",
            "justify_items": null,
            "grid_row": null,
            "max_height": null,
            "align_content": null,
            "visibility": null,
            "align_self": null,
            "height": null,
            "min_height": null,
            "padding": null,
            "grid_auto_rows": null,
            "grid_gap": null,
            "max_width": null,
            "order": null,
            "_view_module_version": "1.2.0",
            "grid_template_areas": null,
            "object_position": null,
            "object_fit": null,
            "grid_auto_columns": null,
            "margin": null,
            "display": null,
            "left": null
          }
        },
        "5d75a02b824941358c39decea7f73fa2": {
          "model_module": "@jupyter-widgets/controls",
          "model_name": "DescriptionStyleModel",
          "state": {
            "_view_name": "StyleView",
            "_model_name": "DescriptionStyleModel",
            "description_width": "",
            "_view_module": "@jupyter-widgets/base",
            "_model_module_version": "1.5.0",
            "_view_count": null,
            "_view_module_version": "1.2.0",
            "_model_module": "@jupyter-widgets/controls"
          }
        },
        "1598841882c64a1d893909eacca0fbd5": {
          "model_module": "@jupyter-widgets/base",
          "model_name": "LayoutModel",
          "state": {
            "_view_name": "LayoutView",
            "grid_template_rows": null,
            "right": null,
            "justify_content": null,
            "_view_module": "@jupyter-widgets/base",
            "overflow": null,
            "_model_module_version": "1.2.0",
            "_view_count": null,
            "flex_flow": null,
            "width": null,
            "min_width": null,
            "border": null,
            "align_items": null,
            "bottom": null,
            "_model_module": "@jupyter-widgets/base",
            "top": null,
            "grid_column": null,
            "overflow_y": null,
            "overflow_x": null,
            "grid_auto_flow": null,
            "grid_area": null,
            "grid_template_columns": null,
            "flex": null,
            "_model_name": "LayoutModel",
            "justify_items": null,
            "grid_row": null,
            "max_height": null,
            "align_content": null,
            "visibility": null,
            "align_self": null,
            "height": null,
            "min_height": null,
            "padding": null,
            "grid_auto_rows": null,
            "grid_gap": null,
            "max_width": null,
            "order": null,
            "_view_module_version": "1.2.0",
            "grid_template_areas": null,
            "object_position": null,
            "object_fit": null,
            "grid_auto_columns": null,
            "margin": null,
            "display": null,
            "left": null
          }
        },
        "2ac971bba81645b5914cb95125b4a341": {
          "model_module": "@jupyter-widgets/controls",
          "model_name": "HBoxModel",
          "state": {
            "_view_name": "HBoxView",
            "_dom_classes": [],
            "_model_name": "HBoxModel",
            "_view_module": "@jupyter-widgets/controls",
            "_model_module_version": "1.5.0",
            "_view_count": null,
            "_view_module_version": "1.5.0",
            "box_style": "",
            "layout": "IPY_MODEL_89318d80c83045a6837f38672c615b8e",
            "_model_module": "@jupyter-widgets/controls",
            "children": [
              "IPY_MODEL_5b66a4b47e1e4059a33404ea21e63583",
              "IPY_MODEL_a07da5bd99e447e08e93d7f6b35e242d"
            ]
          }
        },
        "89318d80c83045a6837f38672c615b8e": {
          "model_module": "@jupyter-widgets/base",
          "model_name": "LayoutModel",
          "state": {
            "_view_name": "LayoutView",
            "grid_template_rows": null,
            "right": null,
            "justify_content": null,
            "_view_module": "@jupyter-widgets/base",
            "overflow": null,
            "_model_module_version": "1.2.0",
            "_view_count": null,
            "flex_flow": null,
            "width": null,
            "min_width": null,
            "border": null,
            "align_items": null,
            "bottom": null,
            "_model_module": "@jupyter-widgets/base",
            "top": null,
            "grid_column": null,
            "overflow_y": null,
            "overflow_x": null,
            "grid_auto_flow": null,
            "grid_area": null,
            "grid_template_columns": null,
            "flex": null,
            "_model_name": "LayoutModel",
            "justify_items": null,
            "grid_row": null,
            "max_height": null,
            "align_content": null,
            "visibility": null,
            "align_self": null,
            "height": null,
            "min_height": null,
            "padding": null,
            "grid_auto_rows": null,
            "grid_gap": null,
            "max_width": null,
            "order": null,
            "_view_module_version": "1.2.0",
            "grid_template_areas": null,
            "object_position": null,
            "object_fit": null,
            "grid_auto_columns": null,
            "margin": null,
            "display": null,
            "left": null
          }
        },
        "5b66a4b47e1e4059a33404ea21e63583": {
          "model_module": "@jupyter-widgets/controls",
          "model_name": "FloatProgressModel",
          "state": {
            "_view_name": "ProgressView",
            "style": "IPY_MODEL_5b4b6e31fa4849f2b13c0fca825507d0",
            "_dom_classes": [],
            "description": "100%",
            "_model_name": "FloatProgressModel",
            "bar_style": "success",
            "max": 512,
            "_view_module": "@jupyter-widgets/controls",
            "_model_module_version": "1.5.0",
            "value": 512,
            "_view_count": null,
            "_view_module_version": "1.5.0",
            "orientation": "horizontal",
            "min": 0,
            "description_tooltip": null,
            "_model_module": "@jupyter-widgets/controls",
            "layout": "IPY_MODEL_5c8c7fa62034415d83fe684f4f15570c"
          }
        },
        "a07da5bd99e447e08e93d7f6b35e242d": {
          "model_module": "@jupyter-widgets/controls",
          "model_name": "HTMLModel",
          "state": {
            "_view_name": "HTMLView",
            "style": "IPY_MODEL_229788012872455f8659e3a32b2ad131",
            "_dom_classes": [],
            "description": "",
            "_model_name": "HTMLModel",
            "placeholder": "​",
            "_view_module": "@jupyter-widgets/controls",
            "_model_module_version": "1.5.0",
            "value": " 512/512 [00:03&lt;00:00, 144.48it/s]",
            "_view_count": null,
            "_view_module_version": "1.5.0",
            "description_tooltip": null,
            "_model_module": "@jupyter-widgets/controls",
            "layout": "IPY_MODEL_810a50263c45435eb62071f92d6251a6"
          }
        },
        "5b4b6e31fa4849f2b13c0fca825507d0": {
          "model_module": "@jupyter-widgets/controls",
          "model_name": "ProgressStyleModel",
          "state": {
            "_view_name": "StyleView",
            "_model_name": "ProgressStyleModel",
            "description_width": "initial",
            "_view_module": "@jupyter-widgets/base",
            "_model_module_version": "1.5.0",
            "_view_count": null,
            "_view_module_version": "1.2.0",
            "bar_color": null,
            "_model_module": "@jupyter-widgets/controls"
          }
        },
        "5c8c7fa62034415d83fe684f4f15570c": {
          "model_module": "@jupyter-widgets/base",
          "model_name": "LayoutModel",
          "state": {
            "_view_name": "LayoutView",
            "grid_template_rows": null,
            "right": null,
            "justify_content": null,
            "_view_module": "@jupyter-widgets/base",
            "overflow": null,
            "_model_module_version": "1.2.0",
            "_view_count": null,
            "flex_flow": null,
            "width": null,
            "min_width": null,
            "border": null,
            "align_items": null,
            "bottom": null,
            "_model_module": "@jupyter-widgets/base",
            "top": null,
            "grid_column": null,
            "overflow_y": null,
            "overflow_x": null,
            "grid_auto_flow": null,
            "grid_area": null,
            "grid_template_columns": null,
            "flex": null,
            "_model_name": "LayoutModel",
            "justify_items": null,
            "grid_row": null,
            "max_height": null,
            "align_content": null,
            "visibility": null,
            "align_self": null,
            "height": null,
            "min_height": null,
            "padding": null,
            "grid_auto_rows": null,
            "grid_gap": null,
            "max_width": null,
            "order": null,
            "_view_module_version": "1.2.0",
            "grid_template_areas": null,
            "object_position": null,
            "object_fit": null,
            "grid_auto_columns": null,
            "margin": null,
            "display": null,
            "left": null
          }
        },
        "229788012872455f8659e3a32b2ad131": {
          "model_module": "@jupyter-widgets/controls",
          "model_name": "DescriptionStyleModel",
          "state": {
            "_view_name": "StyleView",
            "_model_name": "DescriptionStyleModel",
            "description_width": "",
            "_view_module": "@jupyter-widgets/base",
            "_model_module_version": "1.5.0",
            "_view_count": null,
            "_view_module_version": "1.2.0",
            "_model_module": "@jupyter-widgets/controls"
          }
        },
        "810a50263c45435eb62071f92d6251a6": {
          "model_module": "@jupyter-widgets/base",
          "model_name": "LayoutModel",
          "state": {
            "_view_name": "LayoutView",
            "grid_template_rows": null,
            "right": null,
            "justify_content": null,
            "_view_module": "@jupyter-widgets/base",
            "overflow": null,
            "_model_module_version": "1.2.0",
            "_view_count": null,
            "flex_flow": null,
            "width": null,
            "min_width": null,
            "border": null,
            "align_items": null,
            "bottom": null,
            "_model_module": "@jupyter-widgets/base",
            "top": null,
            "grid_column": null,
            "overflow_y": null,
            "overflow_x": null,
            "grid_auto_flow": null,
            "grid_area": null,
            "grid_template_columns": null,
            "flex": null,
            "_model_name": "LayoutModel",
            "justify_items": null,
            "grid_row": null,
            "max_height": null,
            "align_content": null,
            "visibility": null,
            "align_self": null,
            "height": null,
            "min_height": null,
            "padding": null,
            "grid_auto_rows": null,
            "grid_gap": null,
            "max_width": null,
            "order": null,
            "_view_module_version": "1.2.0",
            "grid_template_areas": null,
            "object_position": null,
            "object_fit": null,
            "grid_auto_columns": null,
            "margin": null,
            "display": null,
            "left": null
          }
        }
      }
    }
  },
  "cells": [
    {
      "cell_type": "code",
      "metadata": {
        "id": "7dca2fKTpnYb",
        "colab_type": "code",
        "colab": {}
      },
      "source": [
        "import numpy as np\n",
        "import pandas as pd\n",
        "import re\n",
        "import matplotlib.pyplot as plt"
      ],
      "execution_count": 1,
      "outputs": []
    },
    {
      "cell_type": "code",
      "metadata": {
        "id": "Wf9RwbL8p6bH",
        "colab_type": "code",
        "colab": {
          "base_uri": "https://localhost:8080/",
          "height": 69
        },
        "outputId": "fd3ac9ec-d57c-4e56-e3bc-055c68a0fb79"
      },
      "source": [
        "import nltk\n",
        "from nltk.tokenize import word_tokenize \n",
        "\n",
        "nltk.download('punkt')"
      ],
      "execution_count": 2,
      "outputs": [
        {
          "output_type": "stream",
          "text": [
            "[nltk_data] Downloading package punkt to /root/nltk_data...\n",
            "[nltk_data]   Package punkt is already up-to-date!\n"
          ],
          "name": "stdout"
        },
        {
          "output_type": "execute_result",
          "data": {
            "text/plain": [
              "True"
            ]
          },
          "metadata": {
            "tags": []
          },
          "execution_count": 2
        }
      ]
    },
    {
      "cell_type": "code",
      "metadata": {
        "id": "z_rMdDAzGKlo",
        "colab_type": "code",
        "colab": {
          "base_uri": "https://localhost:8080/",
          "height": 198
        },
        "outputId": "04fff7ad-4fb3-4493-c999-8a8f997e0f0a"
      },
      "source": [
        "df = pd.read_csv('/content/drive/My Drive/Projects/GOT/got_scripts_breakdown.csv', delimiter=';')\n",
        "df.head()"
      ],
      "execution_count": 3,
      "outputs": [
        {
          "output_type": "execute_result",
          "data": {
            "text/html": [
              "<div>\n",
              "<style scoped>\n",
              "    .dataframe tbody tr th:only-of-type {\n",
              "        vertical-align: middle;\n",
              "    }\n",
              "\n",
              "    .dataframe tbody tr th {\n",
              "        vertical-align: top;\n",
              "    }\n",
              "\n",
              "    .dataframe thead th {\n",
              "        text-align: right;\n",
              "    }\n",
              "</style>\n",
              "<table border=\"1\" class=\"dataframe\">\n",
              "  <thead>\n",
              "    <tr style=\"text-align: right;\">\n",
              "      <th></th>\n",
              "      <th>Column1</th>\n",
              "      <th>Season</th>\n",
              "      <th>Episode</th>\n",
              "      <th>Sentence</th>\n",
              "      <th>Name</th>\n",
              "      <th>N_serie</th>\n",
              "      <th>N_Season</th>\n",
              "      <th>Emision Date</th>\n",
              "    </tr>\n",
              "  </thead>\n",
              "  <tbody>\n",
              "    <tr>\n",
              "      <th>0</th>\n",
              "      <td>1</td>\n",
              "      <td>Season 1</td>\n",
              "      <td>winter is coming</td>\n",
              "      <td>What d’you expect? They’re savages One lot ste...</td>\n",
              "      <td>waymar royce</td>\n",
              "      <td>1</td>\n",
              "      <td>1</td>\n",
              "      <td>17/04/2011</td>\n",
              "    </tr>\n",
              "    <tr>\n",
              "      <th>1</th>\n",
              "      <td>2</td>\n",
              "      <td>Season 1</td>\n",
              "      <td>winter is coming</td>\n",
              "      <td>I’ve never seen wildlings do a thing like this...</td>\n",
              "      <td>will</td>\n",
              "      <td>1</td>\n",
              "      <td>1</td>\n",
              "      <td>17/04/2011</td>\n",
              "    </tr>\n",
              "    <tr>\n",
              "      <th>2</th>\n",
              "      <td>3</td>\n",
              "      <td>Season 1</td>\n",
              "      <td>winter is coming</td>\n",
              "      <td>How close did you get?</td>\n",
              "      <td>waymar royce</td>\n",
              "      <td>1</td>\n",
              "      <td>1</td>\n",
              "      <td>17/04/2011</td>\n",
              "    </tr>\n",
              "    <tr>\n",
              "      <th>3</th>\n",
              "      <td>4</td>\n",
              "      <td>Season 1</td>\n",
              "      <td>winter is coming</td>\n",
              "      <td>Close as any man would</td>\n",
              "      <td>will</td>\n",
              "      <td>1</td>\n",
              "      <td>1</td>\n",
              "      <td>17/04/2011</td>\n",
              "    </tr>\n",
              "    <tr>\n",
              "      <th>4</th>\n",
              "      <td>5</td>\n",
              "      <td>Season 1</td>\n",
              "      <td>winter is coming</td>\n",
              "      <td>We should head back to the wall</td>\n",
              "      <td>gared</td>\n",
              "      <td>1</td>\n",
              "      <td>1</td>\n",
              "      <td>17/04/2011</td>\n",
              "    </tr>\n",
              "  </tbody>\n",
              "</table>\n",
              "</div>"
            ],
            "text/plain": [
              "   Column1    Season           Episode  ... N_serie N_Season  Emision Date\n",
              "0        1  Season 1  winter is coming  ...       1        1    17/04/2011\n",
              "1        2  Season 1  winter is coming  ...       1        1    17/04/2011\n",
              "2        3  Season 1  winter is coming  ...       1        1    17/04/2011\n",
              "3        4  Season 1  winter is coming  ...       1        1    17/04/2011\n",
              "4        5  Season 1  winter is coming  ...       1        1    17/04/2011\n",
              "\n",
              "[5 rows x 8 columns]"
            ]
          },
          "metadata": {
            "tags": []
          },
          "execution_count": 3
        }
      ]
    },
    {
      "cell_type": "code",
      "metadata": {
        "id": "AuYszjaQAvbX",
        "colab_type": "code",
        "colab": {
          "base_uri": "https://localhost:8080/",
          "height": 198
        },
        "outputId": "a1d99d10-635c-4a94-9d14-0d36dc782684"
      },
      "source": [
        "df = df[['Sentence']]\n",
        "df.columns = ['Text']\n",
        "df = df.iloc[:3000]\n",
        "df.head()"
      ],
      "execution_count": 4,
      "outputs": [
        {
          "output_type": "execute_result",
          "data": {
            "text/html": [
              "<div>\n",
              "<style scoped>\n",
              "    .dataframe tbody tr th:only-of-type {\n",
              "        vertical-align: middle;\n",
              "    }\n",
              "\n",
              "    .dataframe tbody tr th {\n",
              "        vertical-align: top;\n",
              "    }\n",
              "\n",
              "    .dataframe thead th {\n",
              "        text-align: right;\n",
              "    }\n",
              "</style>\n",
              "<table border=\"1\" class=\"dataframe\">\n",
              "  <thead>\n",
              "    <tr style=\"text-align: right;\">\n",
              "      <th></th>\n",
              "      <th>Text</th>\n",
              "    </tr>\n",
              "  </thead>\n",
              "  <tbody>\n",
              "    <tr>\n",
              "      <th>0</th>\n",
              "      <td>What d’you expect? They’re savages One lot ste...</td>\n",
              "    </tr>\n",
              "    <tr>\n",
              "      <th>1</th>\n",
              "      <td>I’ve never seen wildlings do a thing like this...</td>\n",
              "    </tr>\n",
              "    <tr>\n",
              "      <th>2</th>\n",
              "      <td>How close did you get?</td>\n",
              "    </tr>\n",
              "    <tr>\n",
              "      <th>3</th>\n",
              "      <td>Close as any man would</td>\n",
              "    </tr>\n",
              "    <tr>\n",
              "      <th>4</th>\n",
              "      <td>We should head back to the wall</td>\n",
              "    </tr>\n",
              "  </tbody>\n",
              "</table>\n",
              "</div>"
            ],
            "text/plain": [
              "                                                Text\n",
              "0  What d’you expect? They’re savages One lot ste...\n",
              "1  I’ve never seen wildlings do a thing like this...\n",
              "2                             How close did you get?\n",
              "3                             Close as any man would\n",
              "4                    We should head back to the wall"
            ]
          },
          "metadata": {
            "tags": []
          },
          "execution_count": 4
        }
      ]
    },
    {
      "cell_type": "code",
      "metadata": {
        "id": "4bcStLUAFhjT",
        "colab_type": "code",
        "colab": {
          "base_uri": "https://localhost:8080/",
          "height": 34
        },
        "outputId": "0a043f01-0eaf-4a6d-9b71-9ae0e0959352"
      },
      "source": [
        "df.shape"
      ],
      "execution_count": 5,
      "outputs": [
        {
          "output_type": "execute_result",
          "data": {
            "text/plain": [
              "(3000, 1)"
            ]
          },
          "metadata": {
            "tags": []
          },
          "execution_count": 5
        }
      ]
    },
    {
      "cell_type": "code",
      "metadata": {
        "id": "0DCAgrIKqLYJ",
        "colab_type": "code",
        "colab": {}
      },
      "source": [
        "def preprocess(text):\n",
        "  text = text.lower()\n",
        "  text = re.sub('[^a-z ]', ' ', text)\n",
        "  text = text + ' endseq'\n",
        "  text = ' '.join(text.split())\n",
        "  return text"
      ],
      "execution_count": 6,
      "outputs": []
    },
    {
      "cell_type": "code",
      "metadata": {
        "id": "SqlTqz6Bqa4N",
        "colab_type": "code",
        "colab": {
          "base_uri": "https://localhost:8080/",
          "height": 198
        },
        "outputId": "5baae01a-cf19-42b7-a1be-964e12abb504"
      },
      "source": [
        "df['Text'] = df['Text'].apply(preprocess)\n",
        "df.head()"
      ],
      "execution_count": 7,
      "outputs": [
        {
          "output_type": "execute_result",
          "data": {
            "text/html": [
              "<div>\n",
              "<style scoped>\n",
              "    .dataframe tbody tr th:only-of-type {\n",
              "        vertical-align: middle;\n",
              "    }\n",
              "\n",
              "    .dataframe tbody tr th {\n",
              "        vertical-align: top;\n",
              "    }\n",
              "\n",
              "    .dataframe thead th {\n",
              "        text-align: right;\n",
              "    }\n",
              "</style>\n",
              "<table border=\"1\" class=\"dataframe\">\n",
              "  <thead>\n",
              "    <tr style=\"text-align: right;\">\n",
              "      <th></th>\n",
              "      <th>Text</th>\n",
              "    </tr>\n",
              "  </thead>\n",
              "  <tbody>\n",
              "    <tr>\n",
              "      <th>0</th>\n",
              "      <td>what d you expect they re savages one lot stea...</td>\n",
              "    </tr>\n",
              "    <tr>\n",
              "      <th>1</th>\n",
              "      <td>i ve never seen wildlings do a thing like this...</td>\n",
              "    </tr>\n",
              "    <tr>\n",
              "      <th>2</th>\n",
              "      <td>how close did you get endseq</td>\n",
              "    </tr>\n",
              "    <tr>\n",
              "      <th>3</th>\n",
              "      <td>close as any man would endseq</td>\n",
              "    </tr>\n",
              "    <tr>\n",
              "      <th>4</th>\n",
              "      <td>we should head back to the wall endseq</td>\n",
              "    </tr>\n",
              "  </tbody>\n",
              "</table>\n",
              "</div>"
            ],
            "text/plain": [
              "                                                Text\n",
              "0  what d you expect they re savages one lot stea...\n",
              "1  i ve never seen wildlings do a thing like this...\n",
              "2                       how close did you get endseq\n",
              "3                      close as any man would endseq\n",
              "4             we should head back to the wall endseq"
            ]
          },
          "metadata": {
            "tags": []
          },
          "execution_count": 7
        }
      ]
    },
    {
      "cell_type": "code",
      "metadata": {
        "id": "rb3ENabwzh0w",
        "colab_type": "code",
        "colab": {
          "base_uri": "https://localhost:8080/",
          "height": 265
        },
        "outputId": "daedf099-88cc-454f-b1d5-7cc6bc5dee0a"
      },
      "source": [
        "sen_length = [len(x) for x in df.Text.str.split()]\n",
        "plt.scatter(sen_length, [i for i in range(len(sen_length))])\n",
        "plt.show()"
      ],
      "execution_count": 8,
      "outputs": [
        {
          "output_type": "display_data",
          "data": {
            "image/png": "[encoded data removed]",
            "text/plain": [
              "<Figure size 432x288 with 1 Axes>"
            ]
          },
          "metadata": {
            "tags": [],
            "needs_background": "light"
          }
        }
      ]
    },
    {
      "cell_type": "code",
      "metadata": {
        "id": "cEr7FLd_2lax",
        "colab_type": "code",
        "colab": {
          "base_uri": "https://localhost:8080/",
          "height": 34
        },
        "outputId": "5ac22f0f-b0ad-4189-906d-3763471177b0"
      },
      "source": [
        "df = df[np.array(sen_length) <= 200]\n",
        "df.reset_index(inplace = True)\n",
        "df.shape"
      ],
      "execution_count": 9,
      "outputs": [
        {
          "output_type": "execute_result",
          "data": {
            "text/plain": [
              "(2999, 2)"
            ]
          },
          "metadata": {
            "tags": []
          },
          "execution_count": 9
        }
      ]
    },
    {
      "cell_type": "code",
      "metadata": {
        "id": "3AAybr-4vjjC",
        "colab_type": "code",
        "colab": {}
      },
      "source": [
        "vocab = []\n",
        "\n",
        "for i in df.Text:\n",
        "  vocab.append(word_tokenize(i))"
      ],
      "execution_count": 10,
      "outputs": []
    },
    {
      "cell_type": "code",
      "metadata": {
        "id": "pgld4jzQv7IQ",
        "colab_type": "code",
        "colab": {
          "base_uri": "https://localhost:8080/",
          "height": 34
        },
        "outputId": "9f859bbd-827c-41f9-ab39-bcffa500d356"
      },
      "source": [
        "vocab_flat = []\n",
        "\n",
        "for sublist in vocab:\n",
        "    for item in sublist:\n",
        "        vocab_flat.append(item)\n",
        "\n",
        "print('Total words:', len(vocab_flat), '| Unique words:', len(set(vocab_flat)))"
      ],
      "execution_count": 11,
      "outputs": [
        {
          "output_type": "stream",
          "text": [
            "Total words: 41923 | Unique words: 3658\n"
          ],
          "name": "stdout"
        }
      ]
    },
    {
      "cell_type": "code",
      "metadata": {
        "id": "0Elaro-K9R-0",
        "colab_type": "code",
        "colab": {
          "base_uri": "https://localhost:8080/",
          "height": 34
        },
        "outputId": "58cf1687-bd23-4073-f18f-95b2d2af25a6"
      },
      "source": [
        "max_sentence = max([len(x) for x in vocab])\n",
        "max_sentence"
      ],
      "execution_count": 12,
      "outputs": [
        {
          "output_type": "execute_result",
          "data": {
            "text/plain": [
              "183"
            ]
          },
          "metadata": {
            "tags": []
          },
          "execution_count": 12
        }
      ]
    },
    {
      "cell_type": "code",
      "metadata": {
        "id": "4OIEfZ9Pbn9C",
        "colab_type": "code",
        "colab": {}
      },
      "source": [
        "from tensorflow.keras.preprocessing.text import Tokenizer\n",
        "t = Tokenizer(num_words=len(set(vocab_flat)), filters = '')\n",
        "t.fit_on_texts(set(vocab_flat))\n",
        "sequences = t.texts_to_sequences(df.Text.tolist())"
      ],
      "execution_count": 13,
      "outputs": []
    },
    {
      "cell_type": "code",
      "metadata": {
        "id": "F7CD9cOacqpt",
        "colab_type": "code",
        "colab": {
          "base_uri": "https://localhost:8080/",
          "height": 259
        },
        "outputId": "cc6098d0-2fde-41ea-b859-6219f517a1a0"
      },
      "source": [
        "from tensorflow.keras.preprocessing.sequence import pad_sequences\n",
        "padded = pad_sequences(sequences, maxlen = max_sentence)\n",
        "del sequences\n",
        "print(padded[0])"
      ],
      "execution_count": 14,
      "outputs": [
        {
          "output_type": "stream",
          "text": [
            "[   0    0    0    0    0    0    0    0    0    0    0    0    0    0\n",
            "    0    0    0    0    0    0    0    0    0    0    0    0    0    0\n",
            "    0    0    0    0    0    0    0    0    0    0    0    0    0    0\n",
            "    0    0    0    0    0    0    0    0    0    0    0    0    0    0\n",
            "    0    0    0    0    0    0    0    0    0    0    0    0    0    0\n",
            "    0    0    0    0    0    0    0    0    0    0    0    0    0    0\n",
            "    0    0    0    0    0    0    0    0    0    0    0    0    0    0\n",
            "    0    0    0    0    0    0    0    0    0    0    0    0    0    0\n",
            "    0    0    0    0    0    0    0    0    0    0    0    0    0    0\n",
            "    0    0    0    0    0    0    0    0    0    0    0    0    0    0\n",
            "    0    0    0    0    0    0    0    0    0    0    0    0    0    0\n",
            "    0 1537 2120 3551 3273 1175 2933 1541 1887 3204 2878 2789 2794 2932\n",
            " 3087 3204   34 2957 3551  610 2941 1175 2933  644 1908 1660 2284 3161\n",
            " 1103]\n"
          ],
          "name": "stdout"
        }
      ]
    },
    {
      "cell_type": "code",
      "metadata": {
        "id": "Pj7fwhobYJTX",
        "colab_type": "code",
        "colab": {}
      },
      "source": [
        "def make_X_y(max_sentence, padded):\n",
        "  X = []; y = []\n",
        "  for i in tqdm(range(len(padded))):\n",
        "    for j in range(1, max_sentence):\n",
        "        X.append(pad_sequences([padded[i][0:j]], maxlen = max_sentence)[0])\n",
        "        y.append(padded[i][j])\n",
        "  return X, y"
      ],
      "execution_count": 15,
      "outputs": []
    },
    {
      "cell_type": "code",
      "metadata": {
        "id": "HcL-F02mYJ-Q",
        "colab_type": "code",
        "colab": {
          "base_uri": "https://localhost:8080/",
          "height": 34
        },
        "outputId": "04da840e-0162-4de1-a1f0-737827f704b0"
      },
      "source": [
        "import gc\n",
        "gc.collect()"
      ],
      "execution_count": 16,
      "outputs": [
        {
          "output_type": "execute_result",
          "data": {
            "text/plain": [
              "279"
            ]
          },
          "metadata": {
            "tags": []
          },
          "execution_count": 16
        }
      ]
    },
    {
      "cell_type": "code",
      "metadata": {
        "id": "qz17M9UwYX_u",
        "colab_type": "code",
        "colab": {
          "base_uri": "https://localhost:8080/",
          "height": 743
        },
        "outputId": "e94b9071-edc3-4338-b343-88d2f49ec1df"
      },
      "source": [
        "import tensorflow as tf\n",
        "\n",
        "try:\n",
        "    tpu = tf.distribute.cluster_resolver.TPUClusterResolver()\n",
        "    print('Running on TPU ', tpu.cluster_spec().as_dict()['worker'])\n",
        "except ValueError:\n",
        "    tpu = None\n",
        "\n",
        "if tpu:\n",
        "    tf.config.experimental_connect_to_cluster(tpu)\n",
        "    tf.tpu.experimental.initialize_tpu_system(tpu)\n",
        "    strategy = tf.distribute.experimental.TPUStrategy(tpu)\n",
        "else:\n",
        "    strategy = tf.distribute.get_strategy()\n",
        "print(\"REPLICAS: \", strategy.num_replicas_in_sync)"
      ],
      "execution_count": 17,
      "outputs": [
        {
          "output_type": "stream",
          "text": [
            "Running on TPU  ['10.3.177.194:8470']\n",
            "INFO:tensorflow:Initializing the TPU system: grpc://10.3.177.194:8470\n"
          ],
          "name": "stdout"
        },
        {
          "output_type": "stream",
          "text": [
            "INFO:tensorflow:Initializing the TPU system: grpc://10.3.177.194:8470\n"
          ],
          "name": "stderr"
        },
        {
          "output_type": "stream",
          "text": [
            "INFO:tensorflow:Clearing out eager caches\n"
          ],
          "name": "stdout"
        },
        {
          "output_type": "stream",
          "text": [
            "INFO:tensorflow:Clearing out eager caches\n"
          ],
          "name": "stderr"
        },
        {
          "output_type": "stream",
          "text": [
            "INFO:tensorflow:Finished initializing TPU system.\n"
          ],
          "name": "stdout"
        },
        {
          "output_type": "stream",
          "text": [
            "INFO:tensorflow:Finished initializing TPU system.\n"
          ],
          "name": "stderr"
        },
        {
          "output_type": "stream",
          "text": [
            "INFO:tensorflow:Found TPU system:\n"
          ],
          "name": "stdout"
        },
        {
          "output_type": "stream",
          "text": [
            "INFO:tensorflow:Found TPU system:\n"
          ],
          "name": "stderr"
        },
        {
          "output_type": "stream",
          "text": [
            "INFO:tensorflow:*** Num TPU Cores: 8\n"
          ],
          "name": "stdout"
        },
        {
          "output_type": "stream",
          "text": [
            "INFO:tensorflow:*** Num TPU Cores: 8\n"
          ],
          "name": "stderr"
        },
        {
          "output_type": "stream",
          "text": [
            "INFO:tensorflow:*** Num TPU Workers: 1\n"
          ],
          "name": "stdout"
        },
        {
          "output_type": "stream",
          "text": [
            "INFO:tensorflow:*** Num TPU Workers: 1\n"
          ],
          "name": "stderr"
        },
        {
          "output_type": "stream",
          "text": [
            "INFO:tensorflow:*** Num TPU Cores Per Worker: 8\n"
          ],
          "name": "stdout"
        },
        {
          "output_type": "stream",
          "text": [
            "INFO:tensorflow:*** Num TPU Cores Per Worker: 8\n"
          ],
          "name": "stderr"
        },
        {
          "output_type": "stream",
          "text": [
            "INFO:tensorflow:*** Available Device: _DeviceAttributes(/job:localhost/replica:0/task:0/device:CPU:0, CPU, 0, 0)\n"
          ],
          "name": "stdout"
        },
        {
          "output_type": "stream",
          "text": [
            "INFO:tensorflow:*** Available Device: _DeviceAttributes(/job:localhost/replica:0/task:0/device:CPU:0, CPU, 0, 0)\n"
          ],
          "name": "stderr"
        },
        {
          "output_type": "stream",
          "text": [
            "INFO:tensorflow:*** Available Device: _DeviceAttributes(/job:localhost/replica:0/task:0/device:XLA_CPU:0, XLA_CPU, 0, 0)\n"
          ],
          "name": "stdout"
        },
        {
          "output_type": "stream",
          "text": [
            "INFO:tensorflow:*** Available Device: _DeviceAttributes(/job:localhost/replica:0/task:0/device:XLA_CPU:0, XLA_CPU, 0, 0)\n"
          ],
          "name": "stderr"
        },
        {
          "output_type": "stream",
          "text": [
            "INFO:tensorflow:*** Available Device: _DeviceAttributes(/job:worker/replica:0/task:0/device:CPU:0, CPU, 0, 0)\n"
          ],
          "name": "stdout"
        },
        {
          "output_type": "stream",
          "text": [
            "INFO:tensorflow:*** Available Device: _DeviceAttributes(/job:worker/replica:0/task:0/device:CPU:0, CPU, 0, 0)\n"
          ],
          "name": "stderr"
        },
        {
          "output_type": "stream",
          "text": [
            "INFO:tensorflow:*** Available Device: _DeviceAttributes(/job:worker/replica:0/task:0/device:TPU:0, TPU, 0, 0)\n"
          ],
          "name": "stdout"
        },
        {
          "output_type": "stream",
          "text": [
            "INFO:tensorflow:*** Available Device: _DeviceAttributes(/job:worker/replica:0/task:0/device:TPU:0, TPU, 0, 0)\n"
          ],
          "name": "stderr"
        },
        {
          "output_type": "stream",
          "text": [
            "INFO:tensorflow:*** Available Device: _DeviceAttributes(/job:worker/replica:0/task:0/device:TPU:1, TPU, 0, 0)\n"
          ],
          "name": "stdout"
        },
        {
          "output_type": "stream",
          "text": [
            "INFO:tensorflow:*** Available Device: _DeviceAttributes(/job:worker/replica:0/task:0/device:TPU:1, TPU, 0, 0)\n"
          ],
          "name": "stderr"
        },
        {
          "output_type": "stream",
          "text": [
            "INFO:tensorflow:*** Available Device: _DeviceAttributes(/job:worker/replica:0/task:0/device:TPU:2, TPU, 0, 0)\n"
          ],
          "name": "stdout"
        },
        {
          "output_type": "stream",
          "text": [
            "INFO:tensorflow:*** Available Device: _DeviceAttributes(/job:worker/replica:0/task:0/device:TPU:2, TPU, 0, 0)\n"
          ],
          "name": "stderr"
        },
        {
          "output_type": "stream",
          "text": [
            "INFO:tensorflow:*** Available Device: _DeviceAttributes(/job:worker/replica:0/task:0/device:TPU:3, TPU, 0, 0)\n"
          ],
          "name": "stdout"
        },
        {
          "output_type": "stream",
          "text": [
            "INFO:tensorflow:*** Available Device: _DeviceAttributes(/job:worker/replica:0/task:0/device:TPU:3, TPU, 0, 0)\n"
          ],
          "name": "stderr"
        },
        {
          "output_type": "stream",
          "text": [
            "INFO:tensorflow:*** Available Device: _DeviceAttributes(/job:worker/replica:0/task:0/device:TPU:4, TPU, 0, 0)\n"
          ],
          "name": "stdout"
        },
        {
          "output_type": "stream",
          "text": [
            "INFO:tensorflow:*** Available Device: _DeviceAttributes(/job:worker/replica:0/task:0/device:TPU:4, TPU, 0, 0)\n"
          ],
          "name": "stderr"
        },
        {
          "output_type": "stream",
          "text": [
            "INFO:tensorflow:*** Available Device: _DeviceAttributes(/job:worker/replica:0/task:0/device:TPU:5, TPU, 0, 0)\n"
          ],
          "name": "stdout"
        },
        {
          "output_type": "stream",
          "text": [
            "INFO:tensorflow:*** Available Device: _DeviceAttributes(/job:worker/replica:0/task:0/device:TPU:5, TPU, 0, 0)\n"
          ],
          "name": "stderr"
        },
        {
          "output_type": "stream",
          "text": [
            "INFO:tensorflow:*** Available Device: _DeviceAttributes(/job:worker/replica:0/task:0/device:TPU:6, TPU, 0, 0)\n"
          ],
          "name": "stdout"
        },
        {
          "output_type": "stream",
          "text": [
            "INFO:tensorflow:*** Available Device: _DeviceAttributes(/job:worker/replica:0/task:0/device:TPU:6, TPU, 0, 0)\n"
          ],
          "name": "stderr"
        },
        {
          "output_type": "stream",
          "text": [
            "INFO:tensorflow:*** Available Device: _DeviceAttributes(/job:worker/replica:0/task:0/device:TPU:7, TPU, 0, 0)\n"
          ],
          "name": "stdout"
        },
        {
          "output_type": "stream",
          "text": [
            "INFO:tensorflow:*** Available Device: _DeviceAttributes(/job:worker/replica:0/task:0/device:TPU:7, TPU, 0, 0)\n"
          ],
          "name": "stderr"
        },
        {
          "output_type": "stream",
          "text": [
            "INFO:tensorflow:*** Available Device: _DeviceAttributes(/job:worker/replica:0/task:0/device:TPU_SYSTEM:0, TPU_SYSTEM, 0, 0)\n"
          ],
          "name": "stdout"
        },
        {
          "output_type": "stream",
          "text": [
            "INFO:tensorflow:*** Available Device: _DeviceAttributes(/job:worker/replica:0/task:0/device:TPU_SYSTEM:0, TPU_SYSTEM, 0, 0)\n"
          ],
          "name": "stderr"
        },
        {
          "output_type": "stream",
          "text": [
            "INFO:tensorflow:*** Available Device: _DeviceAttributes(/job:worker/replica:0/task:0/device:XLA_CPU:0, XLA_CPU, 0, 0)\n"
          ],
          "name": "stdout"
        },
        {
          "output_type": "stream",
          "text": [
            "INFO:tensorflow:*** Available Device: _DeviceAttributes(/job:worker/replica:0/task:0/device:XLA_CPU:0, XLA_CPU, 0, 0)\n"
          ],
          "name": "stderr"
        },
        {
          "output_type": "stream",
          "text": [
            "REPLICAS:  8\n"
          ],
          "name": "stdout"
        }
      ]
    },
    {
      "cell_type": "code",
      "metadata": {
        "id": "rinPc980YMmy",
        "colab_type": "code",
        "colab": {}
      },
      "source": [
        "from tensorflow.keras.utils import to_categorical\n",
        "from tensorflow.keras.models import Sequential\n",
        "from tensorflow.keras.layers import LSTM, Dense, Embedding, Input\n",
        "from tensorflow.keras.regularizers import l2"
      ],
      "execution_count": 18,
      "outputs": []
    },
    {
      "cell_type": "code",
      "metadata": {
        "id": "-R9eD9v_YROG",
        "colab_type": "code",
        "colab": {}
      },
      "source": [
        "with strategy.scope():\n",
        "  model = Sequential()\n",
        "  model.add(Input(shape = (max_sentence,)))\n",
        "  model.add(Embedding(input_dim = len(set(vocab_flat)), output_dim = 128, mask_zero = True))\n",
        "  model.add(LSTM(units = 128, activation='relu'))\n",
        "  model.add(Dense(units = len(t.word_index), activation = 'softmax'))"
      ],
      "execution_count": 19,
      "outputs": []
    },
    {
      "cell_type": "code",
      "metadata": {
        "id": "VnWuw_CbYTez",
        "colab_type": "code",
        "colab": {}
      },
      "source": [
        "with strategy.scope():\n",
        "  model.compile(optimizer = tf.keras.optimizers.Adam(), loss = tf.keras.losses.CategoricalCrossentropy())"
      ],
      "execution_count": 20,
      "outputs": []
    },
    {
      "cell_type": "code",
      "metadata": {
        "id": "mMhTGOM8Yflh",
        "colab_type": "code",
        "colab": {
          "base_uri": "https://localhost:8080/",
          "height": 1000,
          "referenced_widgets": [
            "769367e1c50548d58e5f2469e09cc23b",
            "852fa35be1a64250b4c86836652d1e64",
            "0c75cb2e295d4a148536f3171211db74",
            "d6a6b822330449aea850d7b27d4b1210",
            "cfa6989a2ff649879ee6a6551edd94b8",
            "dfeb44acc8484d848ecffb762d02966d",
            "5d75a02b824941358c39decea7f73fa2",
            "1598841882c64a1d893909eacca0fbd5",
            "2ac971bba81645b5914cb95125b4a341",
            "89318d80c83045a6837f38672c615b8e",
            "5b66a4b47e1e4059a33404ea21e63583",
            "a07da5bd99e447e08e93d7f6b35e242d",
            "5b4b6e31fa4849f2b13c0fca825507d0",
            "5c8c7fa62034415d83fe684f4f15570c",
            "229788012872455f8659e3a32b2ad131",
            "810a50263c45435eb62071f92d6251a6"
          ]
        },
        "outputId": "331a08ce-485b-4aaf-83e1-e17e34970be4"
      },
      "source": [
        "from tqdm import tqdm_notebook as tqdm\n",
        "batchSize = 512\n",
        "length = df.shape[0]\n",
        "training_size = 0\n",
        "count = 0\n",
        "for i in range(0, length, batchSize):\n",
        "  if count == 2:\n",
        "    break\n",
        "  gc.collect()\n",
        "  X, y = make_X_y(max_sentence, padded[i : i + batchSize])\n",
        "  \n",
        "  X = np.array(X)\n",
        "  assert not np.any(np.isnan(X))\n",
        "\n",
        "  y = to_categorical(y, dtype = 'bool', num_classes= len(set(vocab_flat)))\n",
        "  y = np.array(y)\n",
        "  print(X.shape)\n",
        "  print(y.shape)\n",
        "  model.fit(X, y, epochs = 50, batch_size=1024)\n",
        "  training_size += X.shape[0]\n",
        "  count += 1"
      ],
      "execution_count": 21,
      "outputs": [
        {
          "output_type": "stream",
          "text": [
            "/usr/local/lib/python3.6/dist-packages/ipykernel_launcher.py:3: TqdmDeprecationWarning: This function will be removed in tqdm==5.0.0\n",
            "Please use `tqdm.notebook.tqdm` instead of `tqdm.tqdm_notebook`\n",
            "  This is separate from the ipykernel package so we can avoid doing imports until\n"
          ],
          "name": "stderr"
        },
        {
          "output_type": "display_data",
          "data": {
            "application/vnd.jupyter.widget-view+json": {
              "model_id": "769367e1c50548d58e5f2469e09cc23b",
              "version_minor": 0,
              "version_major": 2
            },
            "text/plain": [
              "HBox(children=(FloatProgress(value=0.0, max=512.0), HTML(value='')))"
            ]
          },
          "metadata": {
            "tags": []
          }
        },
        {
          "output_type": "stream",
          "text": [
            "\n",
            "(93184, 183)\n",
            "(93184, 3658)\n",
            "Epoch 1/50\n",
            "91/91 [==============================] - 3s 32ms/step - loss: 8.1256\n",
            "Epoch 2/50\n",
            "91/91 [==============================] - 3s 31ms/step - loss: 8.1109\n",
            "Epoch 3/50\n",
            "91/91 [==============================] - 3s 31ms/step - loss: 7.7282\n",
            "Epoch 4/50\n",
            "91/91 [==============================] - 3s 31ms/step - loss: 7.5170\n",
            "Epoch 5/50\n",
            "91/91 [==============================] - 3s 31ms/step - loss: 7.3373\n",
            "Epoch 6/50\n",
            "91/91 [==============================] - 3s 32ms/step - loss: 7.1658\n",
            "Epoch 7/50\n",
            "91/91 [==============================] - 3s 32ms/step - loss: 6.9970\n",
            "Epoch 8/50\n",
            "91/91 [==============================] - 3s 32ms/step - loss: 6.8288\n",
            "Epoch 9/50\n",
            "91/91 [==============================] - 3s 32ms/step - loss: 6.6598\n",
            "Epoch 10/50\n",
            "91/91 [==============================] - 3s 32ms/step - loss: 6.4910\n",
            "Epoch 11/50\n",
            "91/91 [==============================] - 3s 32ms/step - loss: 6.3227\n",
            "Epoch 12/50\n",
            "91/91 [==============================] - 3s 32ms/step - loss: 6.1547\n",
            "Epoch 13/50\n",
            "91/91 [==============================] - 3s 31ms/step - loss: 5.9865\n",
            "Epoch 14/50\n",
            "91/91 [==============================] - 3s 31ms/step - loss: 5.8181\n",
            "Epoch 15/50\n",
            "91/91 [==============================] - 3s 31ms/step - loss: 5.6493\n",
            "Epoch 16/50\n",
            "91/91 [==============================] - 3s 31ms/step - loss: 5.4803\n",
            "Epoch 17/50\n",
            "91/91 [==============================] - 3s 32ms/step - loss: 5.3109\n",
            "Epoch 18/50\n",
            "91/91 [==============================] - 3s 32ms/step - loss: 5.1418\n",
            "Epoch 19/50\n",
            "91/91 [==============================] - 3s 32ms/step - loss: 4.9720\n",
            "Epoch 20/50\n",
            "91/91 [==============================] - 3s 31ms/step - loss: 4.8022\n",
            "Epoch 21/50\n",
            "91/91 [==============================] - 3s 32ms/step - loss: 4.6330\n",
            "Epoch 22/50\n",
            "91/91 [==============================] - 3s 32ms/step - loss: 4.4619\n",
            "Epoch 23/50\n",
            "91/91 [==============================] - 3s 31ms/step - loss: 4.2917\n",
            "Epoch 24/50\n",
            "91/91 [==============================] - 3s 31ms/step - loss: 4.1230\n",
            "Epoch 25/50\n",
            "91/91 [==============================] - 3s 32ms/step - loss: 3.9537\n",
            "Epoch 26/50\n",
            "91/91 [==============================] - 3s 32ms/step - loss: 3.7844\n",
            "Epoch 27/50\n",
            "91/91 [==============================] - 3s 32ms/step - loss: 3.6171\n",
            "Epoch 28/50\n",
            "91/91 [==============================] - 3s 32ms/step - loss: 3.4551\n",
            "Epoch 29/50\n",
            "91/91 [==============================] - 3s 32ms/step - loss: 3.2899\n",
            "Epoch 30/50\n",
            "91/91 [==============================] - 3s 32ms/step - loss: 3.1265\n",
            "Epoch 31/50\n",
            "91/91 [==============================] - 3s 31ms/step - loss: 2.9681\n",
            "Epoch 32/50\n",
            "91/91 [==============================] - 3s 32ms/step - loss: 2.8112\n",
            "Epoch 33/50\n",
            "91/91 [==============================] - 3s 31ms/step - loss: 2.6572\n",
            "Epoch 34/50\n",
            "91/91 [==============================] - 3s 32ms/step - loss: 2.5062\n",
            "Epoch 35/50\n",
            "91/91 [==============================] - 3s 32ms/step - loss: 2.3576\n",
            "Epoch 36/50\n",
            "91/91 [==============================] - 3s 31ms/step - loss: 2.2155\n",
            "Epoch 37/50\n",
            "91/91 [==============================] - 3s 32ms/step - loss: 2.0748\n",
            "Epoch 38/50\n",
            "91/91 [==============================] - 3s 32ms/step - loss: 1.9408\n",
            "Epoch 39/50\n",
            "91/91 [==============================] - 3s 31ms/step - loss: 1.8167\n",
            "Epoch 40/50\n",
            "91/91 [==============================] - 3s 32ms/step - loss: 1.6880\n",
            "Epoch 41/50\n",
            "91/91 [==============================] - 3s 31ms/step - loss: 1.5707\n",
            "Epoch 42/50\n",
            "91/91 [==============================] - 3s 32ms/step - loss: 1.4610\n",
            "Epoch 43/50\n",
            "91/91 [==============================] - 3s 31ms/step - loss: 1.3540\n",
            "Epoch 44/50\n",
            "91/91 [==============================] - 3s 32ms/step - loss: 1.2559\n",
            "Epoch 45/50\n",
            "91/91 [==============================] - 3s 32ms/step - loss: 1.1654\n",
            "Epoch 46/50\n",
            "91/91 [==============================] - 3s 31ms/step - loss: 1.0814\n",
            "Epoch 47/50\n",
            "91/91 [==============================] - 3s 31ms/step - loss: 0.9986\n",
            "Epoch 48/50\n",
            "91/91 [==============================] - 3s 31ms/step - loss: 0.9263\n",
            "Epoch 49/50\n",
            "91/91 [==============================] - 3s 32ms/step - loss: 0.8589\n",
            "Epoch 50/50\n",
            "91/91 [==============================] - 3s 32ms/step - loss: 0.7972\n"
          ],
          "name": "stdout"
        },
        {
          "output_type": "display_data",
          "data": {
            "application/vnd.jupyter.widget-view+json": {
              "model_id": "2ac971bba81645b5914cb95125b4a341",
              "version_minor": 0,
              "version_major": 2
            },
            "text/plain": [
              "HBox(children=(FloatProgress(value=0.0, max=512.0), HTML(value='')))"
            ]
          },
          "metadata": {
            "tags": []
          }
        },
        {
          "output_type": "stream",
          "text": [
            "\n",
            "(93184, 183)\n",
            "(93184, 3658)\n",
            "Epoch 1/50\n",
            "91/91 [==============================] - 3s 31ms/step - loss: 1.2665\n",
            "Epoch 2/50\n",
            "91/91 [==============================] - 3s 32ms/step - loss: 1.0635\n",
            "Epoch 3/50\n",
            "91/91 [==============================] - 3s 32ms/step - loss: 1.0002\n",
            "Epoch 4/50\n",
            "91/91 [==============================] - 3s 31ms/step - loss: 0.9493\n",
            "Epoch 5/50\n",
            "91/91 [==============================] - 3s 31ms/step - loss: 0.9051\n",
            "Epoch 6/50\n",
            "91/91 [==============================] - 3s 31ms/step - loss: 0.8656\n",
            "Epoch 7/50\n",
            "91/91 [==============================] - 3s 32ms/step - loss: 0.8299\n",
            "Epoch 8/50\n",
            "91/91 [==============================] - 3s 32ms/step - loss: 0.7970\n",
            "Epoch 9/50\n",
            "91/91 [==============================] - 3s 31ms/step - loss: 0.7664\n",
            "Epoch 10/50\n",
            "91/91 [==============================] - 3s 31ms/step - loss: 0.7371\n",
            "Epoch 11/50\n",
            "91/91 [==============================] - 3s 31ms/step - loss: 0.7092\n",
            "Epoch 12/50\n",
            "91/91 [==============================] - 3s 32ms/step - loss: 0.6821\n",
            "Epoch 13/50\n",
            "91/91 [==============================] - 3s 31ms/step - loss: 0.6551\n",
            "Epoch 14/50\n",
            "91/91 [==============================] - 3s 32ms/step - loss: 0.6290\n",
            "Epoch 15/50\n",
            "91/91 [==============================] - 3s 32ms/step - loss: 0.6018\n",
            "Epoch 16/50\n",
            "91/91 [==============================] - 3s 32ms/step - loss: 0.5755\n",
            "Epoch 17/50\n",
            "91/91 [==============================] - 3s 32ms/step - loss: 0.5485\n",
            "Epoch 18/50\n",
            "91/91 [==============================] - 3s 32ms/step - loss: 0.5210\n",
            "Epoch 19/50\n",
            "91/91 [==============================] - 3s 32ms/step - loss: 0.4943\n",
            "Epoch 20/50\n",
            "91/91 [==============================] - 3s 31ms/step - loss: 0.4672\n",
            "Epoch 21/50\n",
            "91/91 [==============================] - 3s 31ms/step - loss: 0.4420\n",
            "Epoch 22/50\n",
            "91/91 [==============================] - 3s 31ms/step - loss: 0.4169\n",
            "Epoch 23/50\n",
            "91/91 [==============================] - 3s 32ms/step - loss: 0.3934\n",
            "Epoch 24/50\n",
            "91/91 [==============================] - 3s 31ms/step - loss: 0.3712\n",
            "Epoch 25/50\n",
            "91/91 [==============================] - 3s 32ms/step - loss: 0.3496\n",
            "Epoch 26/50\n",
            "91/91 [==============================] - 3s 31ms/step - loss: 0.3298\n",
            "Epoch 27/50\n",
            "91/91 [==============================] - 3s 33ms/step - loss: 0.3100\n",
            "Epoch 28/50\n",
            "91/91 [==============================] - 3s 31ms/step - loss: 0.2928\n",
            "Epoch 29/50\n",
            "91/91 [==============================] - 3s 31ms/step - loss: 0.2773\n",
            "Epoch 30/50\n",
            "91/91 [==============================] - 3s 31ms/step - loss: 0.2622\n",
            "Epoch 31/50\n",
            "91/91 [==============================] - 3s 32ms/step - loss: 0.2472\n",
            "Epoch 32/50\n",
            "91/91 [==============================] - 3s 32ms/step - loss: 0.2338\n",
            "Epoch 33/50\n",
            "91/91 [==============================] - 3s 31ms/step - loss: 0.2211\n",
            "Epoch 34/50\n",
            "91/91 [==============================] - 3s 32ms/step - loss: 0.2108\n",
            "Epoch 35/50\n",
            "91/91 [==============================] - 3s 32ms/step - loss: 0.2011\n",
            "Epoch 36/50\n",
            "91/91 [==============================] - 3s 31ms/step - loss: 0.1904\n",
            "Epoch 37/50\n",
            "91/91 [==============================] - 3s 32ms/step - loss: 0.1803\n",
            "Epoch 38/50\n",
            "91/91 [==============================] - 3s 31ms/step - loss: 0.1729\n",
            "Epoch 39/50\n",
            "91/91 [==============================] - 3s 31ms/step - loss: 0.1670\n",
            "Epoch 40/50\n",
            "91/91 [==============================] - 3s 31ms/step - loss: 0.1602\n",
            "Epoch 41/50\n",
            "91/91 [==============================] - 3s 32ms/step - loss: 0.1546\n",
            "Epoch 42/50\n",
            "91/91 [==============================] - 3s 32ms/step - loss: 0.1479\n",
            "Epoch 43/50\n",
            "91/91 [==============================] - 3s 31ms/step - loss: 0.1440\n",
            "Epoch 44/50\n",
            "91/91 [==============================] - 3s 32ms/step - loss: 0.1392\n",
            "Epoch 45/50\n",
            "91/91 [==============================] - 3s 32ms/step - loss: 0.1347\n",
            "Epoch 46/50\n",
            "91/91 [==============================] - 3s 32ms/step - loss: 0.1313\n",
            "Epoch 47/50\n",
            "91/91 [==============================] - 3s 32ms/step - loss: 0.1263\n",
            "Epoch 48/50\n",
            "91/91 [==============================] - 3s 31ms/step - loss: 0.1226\n",
            "Epoch 49/50\n",
            "91/91 [==============================] - 3s 32ms/step - loss: 0.1212\n",
            "Epoch 50/50\n",
            "91/91 [==============================] - 3s 31ms/step - loss: 0.1197\n"
          ],
          "name": "stdout"
        }
      ]
    },
    {
      "cell_type": "code",
      "metadata": {
        "id": "cctG4OlOYl1T",
        "colab_type": "code",
        "colab": {
          "base_uri": "https://localhost:8080/",
          "height": 34
        },
        "outputId": "aca2b773-a122-4de3-85ef-b3356e8a35de"
      },
      "source": [
        "print('Total training size model is trained on:', training_size)"
      ],
      "execution_count": 22,
      "outputs": [
        {
          "output_type": "stream",
          "text": [
            "Total training size model is trained on: 186368\n"
          ],
          "name": "stdout"
        }
      ]
    }
  ]
}